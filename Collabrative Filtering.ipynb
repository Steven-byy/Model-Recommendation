{
 "cells": [
  {
   "cell_type": "code",
   "execution_count": 16,
   "outputs": [
    {
     "name": "stdout",
     "output_type": "stream",
     "text": [
      "similarity:  0.0\n"
     ]
    }
   ],
   "source": [
    "\n",
    "# Program to measure the similarity between\n",
    "# two sentences using cosine similarity.\n",
    "from nltk.corpus import stopwords\n",
    "from nltk.tokenize import word_tokenize\n",
    "\n",
    "# X = input(\"Enter first string: \").lower()\n",
    "# Y = input(\"Enter second string: \").lower()\n",
    "X =\"Dogs & Cats Images\"\n",
    "Y =\"Pizza or Not Pizza?\"\n",
    "\n",
    "# tokenization\n",
    "X_list = word_tokenize(X)\n",
    "Y_list = word_tokenize(Y)\n",
    "\n",
    "# sw contains the list of stopwords\n",
    "sw = stopwords.words('english')\n",
    "l1 =[];l2 =[]\n",
    "\n",
    "# remove stop words from the string\n",
    "X_set = {w for w in X_list if not w in sw}\n",
    "Y_set = {w for w in Y_list if not w in sw}\n",
    "\n",
    "# form a set containing keywords of both strings\n",
    "rvector = X_set.union(Y_set)\n",
    "for w in rvector:\n",
    "    if w in X_set: l1.append(1) # create a vector\n",
    "    else: l1.append(0)\n",
    "    if w in Y_set: l2.append(1)\n",
    "    else: l2.append(0)\n",
    "c = 0\n",
    "\n",
    "# cosine formula\n",
    "for i in range(len(rvector)):\n",
    "        c+= l1[i]*l2[i]\n",
    "cosine = c / float((sum(l1)*sum(l2))**0.5)\n",
    "print(\"similarity: \", cosine)"
   ],
   "metadata": {
    "collapsed": false,
    "pycharm": {
     "name": "#%%\n"
    }
   }
  },
  {
   "cell_type": "code",
   "execution_count": null,
   "outputs": [],
   "source": [],
   "metadata": {
    "collapsed": false,
    "pycharm": {
     "name": "#%%\n"
    }
   }
  }
 ],
 "metadata": {
  "kernelspec": {
   "display_name": "Python 3",
   "language": "python",
   "name": "python3"
  },
  "language_info": {
   "codemirror_mode": {
    "name": "ipython",
    "version": 2
   },
   "file_extension": ".py",
   "mimetype": "text/x-python",
   "name": "python",
   "nbconvert_exporter": "python",
   "pygments_lexer": "ipython2",
   "version": "2.7.6"
  }
 },
 "nbformat": 4,
 "nbformat_minor": 0
}