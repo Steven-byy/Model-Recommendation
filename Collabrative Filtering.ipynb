{
 "cells": [
  {
   "cell_type": "code",
   "execution_count": 170,
   "outputs": [],
   "source": [
    "import numpy as np\n",
    "import pandas as pd\n",
    "from sklearn.metrics.pairwise import cosine_similarity"
   ],
   "metadata": {
    "collapsed": false,
    "pycharm": {
     "name": "#%%\n"
    }
   }
  },
  {
   "cell_type": "code",
   "execution_count": 171,
   "outputs": [],
   "source": [
    "ratings = pd.read_csv(\"Balance_accuracy.csv\",low_memory=False)"
   ],
   "metadata": {
    "collapsed": false,
    "pycharm": {
     "name": "#%%\n"
    }
   }
  },
  {
   "cell_type": "code",
   "execution_count": 172,
   "outputs": [
    {
     "name": "stdout",
     "output_type": "stream",
     "text": [
      "      dataset_id  model_id  balance_accuracy\n",
      "991            7      1812          0.507000\n",
      "4308          38       252          0.346667\n",
      "5085          44      1529          0.556102\n",
      "4030          34       924          0.468607\n",
      "4938          43       907          0.135360\n",
      "...          ...       ...               ...\n",
      "4055          34      1274          0.500981\n",
      "7489          69       308          0.500000\n",
      "568            5       839          0.250000\n",
      "7757          70      1826          0.276006\n",
      "7796          71       165          0.129375\n",
      "\n",
      "[6342 rows x 3 columns]\n"
     ]
    }
   ],
   "source": [
    "from sklearn.model_selection import train_test_split\n",
    "train_data, test_data = train_test_split(ratings,test_size=0.2)\n",
    "print(train_data)"
   ],
   "metadata": {
    "collapsed": false,
    "pycharm": {
     "name": "#%%\n"
    }
   }
  },
  {
   "cell_type": "code",
   "execution_count": 173,
   "outputs": [],
   "source": [
    "datasets = ratings.dataset_id.unique()\n",
    "models = ratings.model_id.unique()\n",
    "\n",
    "data_model_train = pd.DataFrame(index=datasets,columns=models)\n",
    "data_model_test = pd.DataFrame(index=datasets,columns=models)\n",
    "# print(data_model_train)\n",
    "# print(data_model_test)"
   ],
   "metadata": {
    "collapsed": false,
    "pycharm": {
     "name": "#%%\n"
    }
   }
  },
  {
   "cell_type": "code",
   "execution_count": 174,
   "outputs": [
    {
     "name": "stdout",
     "output_type": "stream",
     "text": [
      "        72        73        74        75        76        77        78    \\\n",
      "0   0.940459  0.958896  0.000000  0.999720  0.999439  0.997482  0.000000   \n",
      "2   0.000000  0.000000  0.000000  0.000000  0.000000  0.000000  0.000000   \n",
      "3   0.000000  0.000000  0.000000  0.000000  0.000000  0.000000  0.000000   \n",
      "4   0.000000  0.000000  0.000000  0.000000  0.000000  0.000000  0.000000   \n",
      "5   0.000000  0.000000  0.000000  0.000000  0.000000  0.000000  0.000000   \n",
      "..       ...       ...       ...       ...       ...       ...       ...   \n",
      "66  0.000000  0.000000  0.000000  0.000000  0.000000  0.000000  0.000000   \n",
      "68  0.000000  0.358772  0.339103  0.376309  0.000000  0.367780  0.325719   \n",
      "69  0.000000  0.000000  0.000000  0.000000  0.000000  0.000000  0.000000   \n",
      "70  0.000000  0.000000  0.000000  0.000000  0.000000  0.000000  0.000000   \n",
      "71  0.000000  0.000000  0.000000  0.000000  0.000000  0.000000  0.000000   \n",
      "\n",
      "        79        80        81    ...  1612  1613  1614  1615  1616  1617  \\\n",
      "0   0.999720  0.998881  0.999439  ...   0.0   0.0   0.0   0.0   0.0     0   \n",
      "2   0.000000  0.000000  0.000000  ...   0.0   0.0   0.0   0.0   0.0     0   \n",
      "3   0.000000  0.000000  0.000000  ...   0.0   0.0   0.0   0.0   0.0     0   \n",
      "4   0.000000  0.000000  0.000000  ...   0.0   0.0   0.0   0.0   0.0     0   \n",
      "5   0.000000  0.000000  0.000000  ...   0.0   0.0   0.0   0.0   0.0     0   \n",
      "..       ...       ...       ...  ...   ...   ...   ...   ...   ...   ...   \n",
      "66  0.000000  0.000000  0.000000  ...   0.0   0.0   0.0   0.0   0.0     0   \n",
      "68  0.280354  0.346980  0.308344  ...   0.0   0.0   0.0   0.0   0.0     0   \n",
      "69  0.000000  0.000000  0.000000  ...   0.0   0.0   0.0   0.0   0.0     0   \n",
      "70  0.000000  0.000000  0.000000  ...   0.0   0.0   0.0   0.0   0.0     0   \n",
      "71  0.000000  0.000000  0.000000  ...   0.0   0.0   0.0   0.0   0.0     0   \n",
      "\n",
      "    1618  1619  1620  1621  \n",
      "0    0.0   0.0   0.0   0.0  \n",
      "2    0.0   0.0   0.0   0.0  \n",
      "3    0.0   0.0   0.0   0.0  \n",
      "4    0.0   0.0   0.0   0.0  \n",
      "5    0.0   0.0   0.0   0.0  \n",
      "..   ...   ...   ...   ...  \n",
      "66   0.0   0.0   0.0   0.0  \n",
      "68   0.0   0.0   0.0   0.0  \n",
      "69   0.0   0.0   0.0   0.0  \n",
      "70   0.0   0.0   0.0   0.0  \n",
      "71   0.0   0.0   0.0   0.0  \n",
      "\n",
      "[62 rows x 1800 columns]\n"
     ]
    }
   ],
   "source": [
    "for row in train_data.itertuples():\n",
    "    # dataset_id = getattr(row,'dataset_id')\n",
    "    # model_id = getattr(row,'model_id')\n",
    "    # balance_accuracy = getattr(row,'balance_accuracy')\n",
    "    data_model_train[row[2]][row[1]] = row[3]\n",
    "data_model_train = data_model_train.fillna(0)\n",
    "print(data_model_train)"
   ],
   "metadata": {
    "collapsed": false,
    "pycharm": {
     "name": "#%%\n"
    }
   }
  },
  {
   "cell_type": "code",
   "execution_count": 175,
   "outputs": [
    {
     "name": "stdout",
     "output_type": "stream",
     "text": [
      "<class 'numpy.ndarray'>\n",
      "[[0.         0.         0.95831851 ... 0.         0.         0.        ]\n",
      " [0.         0.         0.         ... 0.         0.         0.        ]\n",
      " [0.         0.         0.         ... 0.         0.         0.        ]\n",
      " ...\n",
      " [0.         0.         0.         ... 0.         0.         0.        ]\n",
      " [0.         0.         0.         ... 0.         0.         0.        ]\n",
      " [0.         0.         0.         ... 0.         0.         0.        ]]\n"
     ]
    }
   ],
   "source": [
    "for row in test_data.itertuples():\n",
    "    # dataset_id = getattr(row,'dataset_id')\n",
    "    # model_id = getattr(row,'model_id')\n",
    "    # balance_accuracy = getattr(row,'balance_accuracy')\n",
    "    data_model_test[row[2]][row[1]] = row[3]\n",
    "data_model_test = data_model_test.fillna(0)\n",
    "data_model_test = np.array(data_model_test)\n",
    "print(type(data_model_test))\n",
    "print(data_model_test)\n",
    "\n",
    "# test_data_matrix = np.zeros((len(datasets),len(models)))\n",
    "# for line in test_data.itertuples():\n",
    "#     test_data_matrix[line[1] - 1, line[2] - 1] = line[3]"
   ],
   "metadata": {
    "collapsed": false,
    "pycharm": {
     "name": "#%%\n"
    }
   }
  },
  {
   "cell_type": "code",
   "execution_count": 176,
   "outputs": [],
   "source": [
    "# data_model_train.to_csv(\"data_model.csv\")"
   ],
   "metadata": {
    "collapsed": false,
    "pycharm": {
     "name": "#%%\n"
    }
   }
  },
  {
   "cell_type": "markdown",
   "source": [
    "Datasets_similarity_matrix"
   ],
   "metadata": {
    "collapsed": false,
    "pycharm": {
     "name": "#%% md\n"
    }
   }
  },
  {
   "cell_type": "code",
   "execution_count": 177,
   "outputs": [],
   "source": [
    "# Datasets_similarity_matrix = pd.DataFrame(index=datasets,columns=datasets)\n",
    "# print(Datasets_similarity_matrix)"
   ],
   "metadata": {
    "collapsed": false,
    "pycharm": {
     "name": "#%%\n"
    }
   }
  },
  {
   "cell_type": "code",
   "execution_count": 178,
   "outputs": [],
   "source": [
    "# import linecache\n",
    "# for i in range(1,len(datasets)+1):\n",
    "#     dataset1_feature = linecache.getline(\"data_node.txt\",i).split(\"\\t\")[2].replace(\"[\", \"\").replace(\"]\", \"\").replace(\"\\n\",\"\").replace(\" \",\"\").split(\",\")\n",
    "#     # dataset1_feature = np.array(dataset1_feature)\n",
    "#     for j in range(1,len(datasets)+1):\n",
    "#         dataset2_feature = linecache.getline(\"data_node.txt\",j).split(\"\\t\")[2].replace(\"[\", \"\").replace(\"]\", \"\").replace(\"\\n\",\"\").replace(\" \",\"\").split(\",\")\n",
    "#         #dataset2_feature = np.array(dataset2_feature)\n",
    "#         if i == j:\n",
    "#             Datasets_similarity_matrix[j-1][i-1] = 1\n",
    "#         else:\n",
    "#             Datasets_similarity_matrix[j-1][i-1] = cosine_similarity([dataset1_feature,dataset2_feature])[0][1]\n",
    "# Datasets_similarity_matrix.to_csv(\"data_data.csv\")"
   ],
   "metadata": {
    "collapsed": false,
    "pycharm": {
     "name": "#%%\n"
    }
   }
  },
  {
   "cell_type": "markdown",
   "source": [
    "Model_similarity_matrix"
   ],
   "metadata": {
    "collapsed": false,
    "pycharm": {
     "name": "#%% md\n"
    }
   }
  },
  {
   "cell_type": "code",
   "execution_count": 179,
   "outputs": [],
   "source": [
    "# Model_similarity_matrix = pd.DataFrame(index=range(len(models)),columns=range(len(models)))\n",
    "# print(Model_similarity_matrix)"
   ],
   "metadata": {
    "collapsed": false,
    "pycharm": {
     "name": "#%%\n"
    }
   }
  },
  {
   "cell_type": "code",
   "execution_count": 180,
   "outputs": [],
   "source": [
    "# import linecache\n",
    "# for i in range(1,len(datasets)+1):\n",
    "#     model1_feature = linecache.getline(\"model_node.txt\",i).split(\"\\t\")[2].replace(\"[\", \"\").replace(\"]\", \"\").replace(\"\\n\",\"\").replace(\" \",\"\").split(\",\")[2:]\n",
    "#     # dataset1_feature = np.array(dataset1_feature)\n",
    "#     for j in range(1,len(datasets)+1):\n",
    "#         model2_feature = linecache.getline(\"model_node.txt\",j).split(\"\\t\")[2].replace(\"[\", \"\").replace(\"]\", \"\").replace(\"\\n\",\"\").replace(\" \",\"\").split(\",\")[2:]\n",
    "#         #dataset2_feature = np.array(dataset2_feature)\n",
    "#         if i == j:\n",
    "#             Model_similarity_matrix[j-1][i-1] = 1\n",
    "#         else:\n",
    "#             Model_similarity_matrix[j-1][i-1] = cosine_similarity([model1_feature,model2_feature])[0][1]\n",
    "# Model_similarity_matrix.to_csv(\"model_model.csv\")"
   ],
   "metadata": {
    "collapsed": false,
    "pycharm": {
     "name": "#%%\n"
    }
   }
  },
  {
   "cell_type": "code",
   "execution_count": 181,
   "outputs": [],
   "source": [
    "# print(data_model.shape)"
   ],
   "metadata": {
    "collapsed": false,
    "pycharm": {
     "name": "#%%\n"
    }
   }
  },
  {
   "cell_type": "code",
   "execution_count": 182,
   "outputs": [
    {
     "name": "stdout",
     "output_type": "stream",
     "text": [
      "(62, 62)\n",
      "(1800, 1800)\n"
     ]
    }
   ],
   "source": [
    "dataset_similarity = cosine_similarity(data_model_train)\n",
    "model_similarity = cosine_similarity(data_model_train.T)\n",
    "\n",
    "dataset_similarity_csv = pd.DataFrame(dataset_similarity,index=datasets,columns=datasets)\n",
    "\n",
    "print(dataset_similarity.shape)\n",
    "print(model_similarity.shape)"
   ],
   "metadata": {
    "collapsed": false,
    "pycharm": {
     "name": "#%%\n"
    }
   }
  },
  {
   "cell_type": "code",
   "execution_count": 183,
   "outputs": [
    {
     "name": "stdout",
     "output_type": "stream",
     "text": [
      "          0    2         3    4    5    6         7         8         9    11  \\\n",
      "0   1.000000  0.0  0.000000  0.0  0.0  0.0  0.000000  0.000000  0.000000  0.0   \n",
      "2   0.000000  1.0  0.000000  0.0  0.0  0.0  0.000000  0.538819  0.000000  0.0   \n",
      "3   0.000000  0.0  1.000000  0.0  0.0  0.0  0.000000  0.000000  0.000000  0.0   \n",
      "4   0.000000  0.0  0.000000  1.0  0.0  0.0  0.000000  0.000000  0.000000  0.0   \n",
      "5   0.000000  0.0  0.000000  0.0  1.0  0.0  0.000000  0.000000  0.000000  0.0   \n",
      "..       ...  ...       ...  ...  ...  ...       ...       ...       ...  ...   \n",
      "66  0.000000  0.0  0.000000  0.0  0.0  0.0  0.000000  0.000000  0.000000  0.0   \n",
      "68  0.717833  0.0  0.000000  0.0  0.0  0.0  0.000000  0.000000  0.000000  0.0   \n",
      "69  0.000000  0.0  0.000000  0.0  0.0  0.0  0.783045  0.000000  0.766666  0.0   \n",
      "70  0.000000  0.0  0.000000  0.0  0.0  0.0  0.000000  0.000000  0.000000  0.0   \n",
      "71  0.000000  0.0  0.648923  0.0  0.0  0.0  0.000000  0.000000  0.000000  0.0   \n",
      "\n",
      "    ...   59   60   63   64   65   66        68   69   70        71  \n",
      "0   ...  0.0  0.0  0.0  0.0  0.0  0.0  0.717833  0.0  0.0  0.000000  \n",
      "2   ...  0.0  0.0  0.0  0.0  0.0  0.0  0.000000  0.0  0.0  0.000000  \n",
      "3   ...  0.0  0.0  0.0  0.0  0.0  0.0  0.000000  0.0  0.0  0.648923  \n",
      "4   ...  0.0  0.0  0.0  0.0  0.0  0.0  0.000000  0.0  0.0  0.000000  \n",
      "5   ...  0.0  0.0  0.0  0.0  0.0  0.0  0.000000  0.0  0.0  0.000000  \n",
      "..  ...  ...  ...  ...  ...  ...  ...       ...  ...  ...       ...  \n",
      "66  ...  0.0  0.0  0.0  0.0  0.0  1.0  0.000000  0.0  0.0  0.000000  \n",
      "68  ...  0.0  0.0  0.0  0.0  0.0  0.0  1.000000  0.0  0.0  0.000000  \n",
      "69  ...  0.0  0.0  0.0  0.0  0.0  0.0  0.000000  1.0  0.0  0.000000  \n",
      "70  ...  0.0  0.0  0.0  0.0  0.0  0.0  0.000000  0.0  1.0  0.000000  \n",
      "71  ...  0.0  0.0  0.0  0.0  0.0  0.0  0.000000  0.0  0.0  1.000000  \n",
      "\n",
      "[62 rows x 62 columns]\n"
     ]
    }
   ],
   "source": [
    "print(dataset_similarity_csv)\n",
    "dataset_similarity_csv.to_csv(\"dataset_similarity_csv\",sep='\\t')"
   ],
   "metadata": {
    "collapsed": false,
    "pycharm": {
     "name": "#%%\n"
    }
   }
  },
  {
   "cell_type": "code",
   "execution_count": 184,
   "outputs": [],
   "source": [
    "def predict(ratings1, similarity, type):\n",
    "    if type == 'user':\n",
    "        mean_user_rating = ratings1.mean(axis=1)\n",
    "        ratings_diff = (ratings1 - np.array(mean_user_rating)[:,np.newaxis])\n",
    "        pred = np.array(mean_user_rating)[:,np.newaxis] + np.dot(similarity,ratings_diff) / np.array([np.abs(similarity).sum(axis = 1)]).T\n",
    "    return pred"
   ],
   "metadata": {
    "collapsed": false,
    "pycharm": {
     "name": "#%%\n"
    }
   }
  },
  {
   "cell_type": "code",
   "execution_count": 185,
   "outputs": [
    {
     "name": "stdout",
     "output_type": "stream",
     "text": [
      "        72        73        74        75        76        77        78    \\\n",
      "0   0.476472  0.496490  0.221589  0.525862  0.616250  0.658527  0.337780   \n",
      "2   0.001185  0.001185  0.001185  0.001185  0.001185  0.001185  0.001185   \n",
      "3  -0.001275 -0.001275 -0.001275 -0.001275 -0.001275 -0.001275 -0.001275   \n",
      "4  -0.000599 -0.000599 -0.000599 -0.000599 -0.000599 -0.000599 -0.000599   \n",
      "5  -0.000830 -0.000830 -0.000830 -0.000830 -0.000830 -0.000830 -0.000830   \n",
      "..       ...       ...       ...       ...       ...       ...       ...   \n",
      "66 -0.000836 -0.000836 -0.000836 -0.000836 -0.000836 -0.000836 -0.000836   \n",
      "68  0.381762  0.424253  0.248245  0.460132  0.522428  0.589825  0.365174   \n",
      "69 -0.004380 -0.004380 -0.004380 -0.004380 -0.004380 -0.004380 -0.004380   \n",
      "70  0.000172  0.000172  0.000172  0.000172  0.000172  0.000172  0.000172   \n",
      "71 -0.001931 -0.001931 -0.001931 -0.001931 -0.001931 -0.001931 -0.001931   \n",
      "\n",
      "        79        80        81    ...      1612      1613      1614      1615  \\\n",
      "0   0.585312  0.720988  0.698955  ...  0.002664  0.002664  0.002664  0.002664   \n",
      "2   0.001185  0.001185  0.001185  ...  0.001185  0.001185  0.001185  0.001185   \n",
      "3  -0.001275 -0.001275 -0.001275  ... -0.001275 -0.001275 -0.001275 -0.001275   \n",
      "4  -0.000599 -0.000599 -0.000599  ... -0.000599 -0.000599 -0.000599 -0.000599   \n",
      "5  -0.000830 -0.000830 -0.000830  ... -0.000830 -0.000830 -0.000830 -0.000830   \n",
      "..       ...       ...       ...  ...       ...       ...       ...       ...   \n",
      "66 -0.000836 -0.000836 -0.000836  ... -0.000836 -0.000836 -0.000836 -0.000836   \n",
      "68  0.504073  0.654780  0.629024  ... -0.003038 -0.003038 -0.003038 -0.003038   \n",
      "69 -0.004380 -0.004380 -0.004380  ... -0.004380 -0.004380 -0.004380 -0.004380   \n",
      "70  0.000172  0.000172  0.000172  ...  0.000172  0.000172  0.000172  0.000172   \n",
      "71 -0.001931 -0.001931 -0.001931  ... -0.001931 -0.001931 -0.001931 -0.001931   \n",
      "\n",
      "        1616      1617      1618      1619      1620      1621  \n",
      "0   0.002664  0.002664  0.002664  0.002664  0.002664  0.002664  \n",
      "2   0.001185  0.001185  0.001185  0.001185  0.001185  0.001185  \n",
      "3  -0.001275 -0.001275 -0.001275 -0.001275 -0.001275 -0.001275  \n",
      "4  -0.000599 -0.000599 -0.000599 -0.000599 -0.000599 -0.000599  \n",
      "5  -0.000830 -0.000830 -0.000830 -0.000830 -0.000830 -0.000830  \n",
      "..       ...       ...       ...       ...       ...       ...  \n",
      "66 -0.000836 -0.000836 -0.000836 -0.000836 -0.000836 -0.000836  \n",
      "68 -0.003038 -0.003038 -0.003038 -0.003038 -0.003038 -0.003038  \n",
      "69 -0.004380 -0.004380 -0.004380 -0.004380 -0.004380 -0.004380  \n",
      "70  0.000172  0.000172  0.000172  0.000172  0.000172  0.000172  \n",
      "71 -0.001931 -0.001931 -0.001931 -0.001931 -0.001931 -0.001931  \n",
      "\n",
      "[62 rows x 1800 columns]\n"
     ]
    }
   ],
   "source": [
    "user_prediction = predict(data_model_train,dataset_similarity_csv,type='user')\n",
    "\n",
    "user_prediction_csv = pd.DataFrame(user_prediction,index=datasets,columns=models)\n",
    "print(user_prediction_csv)\n",
    "# print(user_prediction_csv)\n",
    "user_prediction_csv.to_csv('user_prediction_csv',sep=\"\\t\")"
   ],
   "metadata": {
    "collapsed": false,
    "pycharm": {
     "name": "#%%\n"
    }
   }
  },
  {
   "cell_type": "code",
   "execution_count": 186,
   "outputs": [],
   "source": [
    "from sklearn.metrics import mean_squared_error\n",
    "from math import sqrt"
   ],
   "metadata": {
    "collapsed": false,
    "pycharm": {
     "name": "#%%\n"
    }
   }
  },
  {
   "cell_type": "code",
   "execution_count": 187,
   "outputs": [],
   "source": [
    "def rmse(prediction, ground_truth):\n",
    "    prediction = prediction.to_numpy()[ground_truth.nonzero()].flatten()\n",
    "    ground_truth = ground_truth[ground_truth.nonzero()].flatten()\n",
    "    return sqrt(mean_squared_error(prediction,ground_truth))"
   ],
   "metadata": {
    "collapsed": false,
    "pycharm": {
     "name": "#%%\n"
    }
   }
  },
  {
   "cell_type": "code",
   "execution_count": 188,
   "outputs": [
    {
     "name": "stdout",
     "output_type": "stream",
     "text": [
      "0.26094231447534216\n"
     ]
    }
   ],
   "source": [
    "print(str(rmse(user_prediction_csv,data_model_test)))"
   ],
   "metadata": {
    "collapsed": false,
    "pycharm": {
     "name": "#%%\n"
    }
   }
  },
  {
   "cell_type": "code",
   "execution_count": 188,
   "outputs": [],
   "source": [],
   "metadata": {
    "collapsed": false,
    "pycharm": {
     "name": "#%%\n"
    }
   }
  }
 ],
 "metadata": {
  "kernelspec": {
   "display_name": "Python 3",
   "language": "python",
   "name": "python3"
  },
  "language_info": {
   "codemirror_mode": {
    "name": "ipython",
    "version": 2
   },
   "file_extension": ".py",
   "mimetype": "text/x-python",
   "name": "python",
   "nbconvert_exporter": "python",
   "pygments_lexer": "ipython2",
   "version": "2.7.6"
  }
 },
 "nbformat": 4,
 "nbformat_minor": 0
}