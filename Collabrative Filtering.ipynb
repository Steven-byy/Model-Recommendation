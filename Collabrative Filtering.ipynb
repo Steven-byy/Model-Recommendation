{
 "cells": [
  {
   "cell_type": "code",
   "execution_count": 32,
   "outputs": [],
   "source": [
    "import numpy as np\n",
    "import pandas as pd\n",
    "from sklearn.metrics.pairwise import cosine_similarity"
   ],
   "metadata": {
    "collapsed": false,
    "pycharm": {
     "name": "#%%\n"
    }
   }
  },
  {
   "cell_type": "code",
   "execution_count": 33,
   "outputs": [],
   "source": [
    "ratings = pd.read_csv(\"Balance_accuracy.csv\",low_memory=False)"
   ],
   "metadata": {
    "collapsed": false,
    "pycharm": {
     "name": "#%%\n"
    }
   }
  },
  {
   "cell_type": "code",
   "execution_count": 34,
   "outputs": [
    {
     "name": "stdout",
     "output_type": "stream",
     "text": [
      "   72   73   74   75   76   77   78   79   80   81    ... 1612 1613 1614 1615  \\\n",
      "0   NaN  NaN  NaN  NaN  NaN  NaN  NaN  NaN  NaN  NaN  ...  NaN  NaN  NaN  NaN   \n",
      "1   NaN  NaN  NaN  NaN  NaN  NaN  NaN  NaN  NaN  NaN  ...  NaN  NaN  NaN  NaN   \n",
      "2   NaN  NaN  NaN  NaN  NaN  NaN  NaN  NaN  NaN  NaN  ...  NaN  NaN  NaN  NaN   \n",
      "3   NaN  NaN  NaN  NaN  NaN  NaN  NaN  NaN  NaN  NaN  ...  NaN  NaN  NaN  NaN   \n",
      "4   NaN  NaN  NaN  NaN  NaN  NaN  NaN  NaN  NaN  NaN  ...  NaN  NaN  NaN  NaN   \n",
      "..  ...  ...  ...  ...  ...  ...  ...  ...  ...  ...  ...  ...  ...  ...  ...   \n",
      "67  NaN  NaN  NaN  NaN  NaN  NaN  NaN  NaN  NaN  NaN  ...  NaN  NaN  NaN  NaN   \n",
      "68  NaN  NaN  NaN  NaN  NaN  NaN  NaN  NaN  NaN  NaN  ...  NaN  NaN  NaN  NaN   \n",
      "69  NaN  NaN  NaN  NaN  NaN  NaN  NaN  NaN  NaN  NaN  ...  NaN  NaN  NaN  NaN   \n",
      "70  NaN  NaN  NaN  NaN  NaN  NaN  NaN  NaN  NaN  NaN  ...  NaN  NaN  NaN  NaN   \n",
      "71  NaN  NaN  NaN  NaN  NaN  NaN  NaN  NaN  NaN  NaN  ...  NaN  NaN  NaN  NaN   \n",
      "\n",
      "   1616 1617 1618 1619 1620 1621  \n",
      "0   NaN  NaN  NaN  NaN  NaN  NaN  \n",
      "1   NaN  NaN  NaN  NaN  NaN  NaN  \n",
      "2   NaN  NaN  NaN  NaN  NaN  NaN  \n",
      "3   NaN  NaN  NaN  NaN  NaN  NaN  \n",
      "4   NaN  NaN  NaN  NaN  NaN  NaN  \n",
      "..  ...  ...  ...  ...  ...  ...  \n",
      "67  NaN  NaN  NaN  NaN  NaN  NaN  \n",
      "68  NaN  NaN  NaN  NaN  NaN  NaN  \n",
      "69  NaN  NaN  NaN  NaN  NaN  NaN  \n",
      "70  NaN  NaN  NaN  NaN  NaN  NaN  \n",
      "71  NaN  NaN  NaN  NaN  NaN  NaN  \n",
      "\n",
      "[72 rows x 1800 columns]\n"
     ]
    }
   ],
   "source": [
    "colums_model = pd.read_csv(\"Balance_accuracy.csv\",usecols=[1],index_col=0)\n",
    "colums_dataset = pd.read_csv(\"Balance_accuracy.csv\",usecols=[0],index_col=0)\n",
    "datasets = []\n",
    "models = []\n",
    "for model in colums_model.index:\n",
    "    if model not in models:\n",
    "        models.append(model)\n",
    "    else:\n",
    "        continue\n",
    "for dataset in colums_dataset.index:\n",
    "    if dataset not in datasets:\n",
    "        datasets.append(dataset)\n",
    "    else:\n",
    "        continue\n",
    "data_model = pd.DataFrame(index=range(len(datasets)),columns=models)\n",
    "print(data_model)"
   ],
   "metadata": {
    "collapsed": false,
    "pycharm": {
     "name": "#%%\n"
    }
   }
  },
  {
   "cell_type": "code",
   "execution_count": 35,
   "outputs": [
    {
     "name": "stdout",
     "output_type": "stream",
     "text": [
      "        72        73        74        75        76        77        78    \\\n",
      "0   0.940459  0.958896  0.958319   0.99972  0.999439  0.997482  0.999439   \n",
      "1        NaN       NaN       NaN       NaN       NaN       NaN       NaN   \n",
      "2        NaN       NaN       NaN       NaN       NaN       NaN       NaN   \n",
      "3        NaN       NaN       NaN       NaN       NaN       NaN       NaN   \n",
      "4        NaN       NaN       NaN       NaN       NaN       NaN       NaN   \n",
      "..       ...       ...       ...       ...       ...       ...       ...   \n",
      "67       NaN       NaN       NaN       NaN       NaN       NaN       NaN   \n",
      "68  0.350863  0.358772  0.339103  0.376309  0.333301   0.36778  0.325719   \n",
      "69       NaN       NaN       NaN       NaN       NaN       NaN       NaN   \n",
      "70       NaN       NaN       NaN       NaN       NaN       NaN       NaN   \n",
      "71       NaN       NaN       NaN       NaN       NaN       NaN       NaN   \n",
      "\n",
      "        79        80        81    ... 1612 1613 1614 1615 1616 1617 1618 1619  \\\n",
      "0    0.99972  0.998881  0.999439  ...  NaN  NaN  NaN  NaN  NaN  NaN  NaN  NaN   \n",
      "1        NaN       NaN       NaN  ...  NaN  NaN  NaN  NaN  NaN  NaN  NaN  NaN   \n",
      "2        NaN       NaN       NaN  ...  NaN  NaN  NaN  NaN  NaN  NaN  NaN  NaN   \n",
      "3        NaN       NaN       NaN  ...  NaN  NaN  NaN  NaN  NaN  NaN  NaN  NaN   \n",
      "4        NaN       NaN       NaN  ...  NaN  NaN  NaN  NaN  NaN  NaN  NaN  NaN   \n",
      "..       ...       ...       ...  ...  ...  ...  ...  ...  ...  ...  ...  ...   \n",
      "67       NaN       NaN       NaN  ...  NaN  NaN  NaN  NaN  NaN  NaN  NaN  NaN   \n",
      "68  0.280354   0.34698  0.308344  ...  NaN  NaN  NaN  NaN  NaN  NaN  NaN  NaN   \n",
      "69       NaN       NaN       NaN  ...  NaN  NaN  NaN  NaN  NaN  NaN  NaN  NaN   \n",
      "70       NaN       NaN       NaN  ...  NaN  NaN  NaN  NaN  NaN  NaN  NaN  NaN   \n",
      "71       NaN       NaN       NaN  ...  NaN  NaN  NaN  NaN  NaN  NaN  NaN  NaN   \n",
      "\n",
      "   1620 1621  \n",
      "0   NaN  NaN  \n",
      "1   NaN  NaN  \n",
      "2   NaN  NaN  \n",
      "3   NaN  NaN  \n",
      "4   NaN  NaN  \n",
      "..  ...  ...  \n",
      "67  NaN  NaN  \n",
      "68  NaN  NaN  \n",
      "69  NaN  NaN  \n",
      "70  NaN  NaN  \n",
      "71  NaN  NaN  \n",
      "\n",
      "[72 rows x 1800 columns]\n"
     ]
    }
   ],
   "source": [
    "for row in ratings.itertuples():\n",
    "    dataset_id = getattr(row,'dataset_id')\n",
    "    model_id = getattr(row,'model_id')\n",
    "    balance_accuracy = getattr(row,'balance_accuracy')\n",
    "    data_model[model_id][dataset_id] = balance_accuracy\n",
    "\n",
    "print(data_model)"
   ],
   "metadata": {
    "collapsed": false,
    "pycharm": {
     "name": "#%%\n"
    }
   }
  },
  {
   "cell_type": "code",
   "execution_count": 36,
   "outputs": [],
   "source": [
    "data_model.to_csv(\"data_model.csv\")"
   ],
   "metadata": {
    "collapsed": false,
    "pycharm": {
     "name": "#%%\n"
    }
   }
  },
  {
   "cell_type": "markdown",
   "source": [
    "Datasets_similarity_matrix"
   ],
   "metadata": {
    "collapsed": false,
    "pycharm": {
     "name": "#%% md\n"
    }
   }
  },
  {
   "cell_type": "code",
   "execution_count": 37,
   "outputs": [
    {
     "name": "stdout",
     "output_type": "stream",
     "text": [
      "     0    1    2    3    4    5    6    7    8    9   ...   62   63   64   65  \\\n",
      "0   NaN  NaN  NaN  NaN  NaN  NaN  NaN  NaN  NaN  NaN  ...  NaN  NaN  NaN  NaN   \n",
      "1   NaN  NaN  NaN  NaN  NaN  NaN  NaN  NaN  NaN  NaN  ...  NaN  NaN  NaN  NaN   \n",
      "2   NaN  NaN  NaN  NaN  NaN  NaN  NaN  NaN  NaN  NaN  ...  NaN  NaN  NaN  NaN   \n",
      "3   NaN  NaN  NaN  NaN  NaN  NaN  NaN  NaN  NaN  NaN  ...  NaN  NaN  NaN  NaN   \n",
      "4   NaN  NaN  NaN  NaN  NaN  NaN  NaN  NaN  NaN  NaN  ...  NaN  NaN  NaN  NaN   \n",
      "..  ...  ...  ...  ...  ...  ...  ...  ...  ...  ...  ...  ...  ...  ...  ...   \n",
      "67  NaN  NaN  NaN  NaN  NaN  NaN  NaN  NaN  NaN  NaN  ...  NaN  NaN  NaN  NaN   \n",
      "68  NaN  NaN  NaN  NaN  NaN  NaN  NaN  NaN  NaN  NaN  ...  NaN  NaN  NaN  NaN   \n",
      "69  NaN  NaN  NaN  NaN  NaN  NaN  NaN  NaN  NaN  NaN  ...  NaN  NaN  NaN  NaN   \n",
      "70  NaN  NaN  NaN  NaN  NaN  NaN  NaN  NaN  NaN  NaN  ...  NaN  NaN  NaN  NaN   \n",
      "71  NaN  NaN  NaN  NaN  NaN  NaN  NaN  NaN  NaN  NaN  ...  NaN  NaN  NaN  NaN   \n",
      "\n",
      "     66   67   68   69   70   71  \n",
      "0   NaN  NaN  NaN  NaN  NaN  NaN  \n",
      "1   NaN  NaN  NaN  NaN  NaN  NaN  \n",
      "2   NaN  NaN  NaN  NaN  NaN  NaN  \n",
      "3   NaN  NaN  NaN  NaN  NaN  NaN  \n",
      "4   NaN  NaN  NaN  NaN  NaN  NaN  \n",
      "..  ...  ...  ...  ...  ...  ...  \n",
      "67  NaN  NaN  NaN  NaN  NaN  NaN  \n",
      "68  NaN  NaN  NaN  NaN  NaN  NaN  \n",
      "69  NaN  NaN  NaN  NaN  NaN  NaN  \n",
      "70  NaN  NaN  NaN  NaN  NaN  NaN  \n",
      "71  NaN  NaN  NaN  NaN  NaN  NaN  \n",
      "\n",
      "[72 rows x 72 columns]\n"
     ]
    }
   ],
   "source": [
    "Datasets_similarity_matrix = pd.DataFrame(index=range(len(datasets)),columns=range(len(datasets)))\n",
    "print(Datasets_similarity_matrix)"
   ],
   "metadata": {
    "collapsed": false,
    "pycharm": {
     "name": "#%%\n"
    }
   }
  },
  {
   "cell_type": "code",
   "execution_count": 38,
   "outputs": [],
   "source": [
    "import linecache\n",
    "for i in range(1,len(datasets)+1):\n",
    "    dataset1_feature = linecache.getline(\"data_node.txt\",i).split(\"\\t\")[2].replace(\"[\", \"\").replace(\"]\", \"\").replace(\"\\n\",\"\").replace(\" \",\"\").split(\",\")\n",
    "    # dataset1_feature = np.array(dataset1_feature)\n",
    "    for j in range(1,len(datasets)+1):\n",
    "        dataset2_feature = linecache.getline(\"data_node.txt\",j).split(\"\\t\")[2].replace(\"[\", \"\").replace(\"]\", \"\").replace(\"\\n\",\"\").replace(\" \",\"\").split(\",\")\n",
    "        #dataset2_feature = np.array(dataset2_feature)\n",
    "        if i == j:\n",
    "            Datasets_similarity_matrix[j-1][i-1] = 1\n",
    "        else:\n",
    "            Datasets_similarity_matrix[j-1][i-1] = cosine_similarity([dataset1_feature,dataset2_feature])[0][1]\n",
    "Datasets_similarity_matrix.to_csv(\"data_data.csv\")"
   ],
   "metadata": {
    "collapsed": false,
    "pycharm": {
     "name": "#%%\n"
    }
   }
  },
  {
   "cell_type": "markdown",
   "source": [
    "Model_similarity_matrix"
   ],
   "metadata": {
    "collapsed": false,
    "pycharm": {
     "name": "#%% md\n"
    }
   }
  },
  {
   "cell_type": "code",
   "execution_count": 39,
   "outputs": [
    {
     "name": "stdout",
     "output_type": "stream",
     "text": [
      "     0    1    2    3    4    5    6    7    8    9     ... 1790 1791 1792  \\\n",
      "0     NaN  NaN  NaN  NaN  NaN  NaN  NaN  NaN  NaN  NaN  ...  NaN  NaN  NaN   \n",
      "1     NaN  NaN  NaN  NaN  NaN  NaN  NaN  NaN  NaN  NaN  ...  NaN  NaN  NaN   \n",
      "2     NaN  NaN  NaN  NaN  NaN  NaN  NaN  NaN  NaN  NaN  ...  NaN  NaN  NaN   \n",
      "3     NaN  NaN  NaN  NaN  NaN  NaN  NaN  NaN  NaN  NaN  ...  NaN  NaN  NaN   \n",
      "4     NaN  NaN  NaN  NaN  NaN  NaN  NaN  NaN  NaN  NaN  ...  NaN  NaN  NaN   \n",
      "...   ...  ...  ...  ...  ...  ...  ...  ...  ...  ...  ...  ...  ...  ...   \n",
      "1795  NaN  NaN  NaN  NaN  NaN  NaN  NaN  NaN  NaN  NaN  ...  NaN  NaN  NaN   \n",
      "1796  NaN  NaN  NaN  NaN  NaN  NaN  NaN  NaN  NaN  NaN  ...  NaN  NaN  NaN   \n",
      "1797  NaN  NaN  NaN  NaN  NaN  NaN  NaN  NaN  NaN  NaN  ...  NaN  NaN  NaN   \n",
      "1798  NaN  NaN  NaN  NaN  NaN  NaN  NaN  NaN  NaN  NaN  ...  NaN  NaN  NaN   \n",
      "1799  NaN  NaN  NaN  NaN  NaN  NaN  NaN  NaN  NaN  NaN  ...  NaN  NaN  NaN   \n",
      "\n",
      "     1793 1794 1795 1796 1797 1798 1799  \n",
      "0     NaN  NaN  NaN  NaN  NaN  NaN  NaN  \n",
      "1     NaN  NaN  NaN  NaN  NaN  NaN  NaN  \n",
      "2     NaN  NaN  NaN  NaN  NaN  NaN  NaN  \n",
      "3     NaN  NaN  NaN  NaN  NaN  NaN  NaN  \n",
      "4     NaN  NaN  NaN  NaN  NaN  NaN  NaN  \n",
      "...   ...  ...  ...  ...  ...  ...  ...  \n",
      "1795  NaN  NaN  NaN  NaN  NaN  NaN  NaN  \n",
      "1796  NaN  NaN  NaN  NaN  NaN  NaN  NaN  \n",
      "1797  NaN  NaN  NaN  NaN  NaN  NaN  NaN  \n",
      "1798  NaN  NaN  NaN  NaN  NaN  NaN  NaN  \n",
      "1799  NaN  NaN  NaN  NaN  NaN  NaN  NaN  \n",
      "\n",
      "[1800 rows x 1800 columns]\n"
     ]
    }
   ],
   "source": [
    "Model_similarity_matrix = pd.DataFrame(index=range(len(models)),columns=range(len(models)))\n",
    "print(Model_similarity_matrix)"
   ],
   "metadata": {
    "collapsed": false,
    "pycharm": {
     "name": "#%%\n"
    }
   }
  },
  {
   "cell_type": "code",
   "execution_count": 40,
   "outputs": [],
   "source": [
    "import linecache\n",
    "for i in range(1,len(datasets)+1):\n",
    "    model1_feature = linecache.getline(\"model_node.txt\",i).split(\"\\t\")[2].replace(\"[\", \"\").replace(\"]\", \"\").replace(\"\\n\",\"\").replace(\" \",\"\").split(\",\")[2:]\n",
    "    # dataset1_feature = np.array(dataset1_feature)\n",
    "    for j in range(1,len(datasets)+1):\n",
    "        model2_feature = linecache.getline(\"model_node.txt\",j).split(\"\\t\")[2].replace(\"[\", \"\").replace(\"]\", \"\").replace(\"\\n\",\"\").replace(\" \",\"\").split(\",\")[2:]\n",
    "        #dataset2_feature = np.array(dataset2_feature)\n",
    "        if i == j:\n",
    "            Model_similarity_matrix[j-1][i-1] = 1\n",
    "        else:\n",
    "            Model_similarity_matrix[j-1][i-1] = cosine_similarity([model1_feature,model2_feature])[0][1]\n",
    "Model_similarity_matrix.to_csv(\"model_model.csv\")"
   ],
   "metadata": {
    "collapsed": false,
    "pycharm": {
     "name": "#%%\n"
    }
   }
  }
 ],
 "metadata": {
  "kernelspec": {
   "display_name": "Python 3",
   "language": "python",
   "name": "python3"
  },
  "language_info": {
   "codemirror_mode": {
    "name": "ipython",
    "version": 2
   },
   "file_extension": ".py",
   "mimetype": "text/x-python",
   "name": "python",
   "nbconvert_exporter": "python",
   "pygments_lexer": "ipython2",
   "version": "2.7.6"
  }
 },
 "nbformat": 4,
 "nbformat_minor": 0
}