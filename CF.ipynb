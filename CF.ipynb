{
 "cells": [
  {
   "cell_type": "code",
   "execution_count": 20,
   "metadata": {
    "collapsed": true,
    "pycharm": {
     "name": "#%%\n"
    }
   },
   "outputs": [],
   "source": [
    "import numpy as np\n",
    "import pandas as pd\n",
    "import matplotlib.pyplot as plt"
   ]
  },
  {
   "cell_type": "code",
   "execution_count": 21,
   "outputs": [
    {
     "name": "stdout",
     "output_type": "stream",
     "text": [
      "(9303, 3)\n",
      "Index(['0', '72', '0.940550709'], dtype='object')\n",
      "       0    72  0.940550709\n",
      "0      0    73     0.959005\n",
      "1      0    74     0.958372\n",
      "2      0    75     0.999721\n",
      "3      0    76     0.999442\n",
      "4      0    77     0.997487\n",
      "...   ..   ...          ...\n",
      "9298  71  1867     0.070535\n",
      "9299  71  1868     0.060800\n",
      "9300  71  1869     0.285008\n",
      "9301  71  1870     0.344348\n",
      "9302  71  1871     0.086123\n",
      "\n",
      "[9303 rows x 3 columns]\n"
     ]
    }
   ],
   "source": [
    "ratings = pd.read_csv(\"F1_Score_raw.csv\", low_memory=False)\n",
    "print(ratings.shape)\n",
    "print(ratings.columns)\n",
    "ratings.head(3)\n",
    "print(ratings)"
   ],
   "metadata": {
    "collapsed": false,
    "pycharm": {
     "name": "#%%\n"
    }
   }
  },
  {
   "cell_type": "markdown",
   "source": [
    "生成数据集和模型评分矩阵"
   ],
   "metadata": {
    "collapsed": false,
    "pycharm": {
     "name": "#%% md\n"
    }
   }
  },
  {
   "cell_type": "code",
   "execution_count": 26,
   "outputs": [
    {
     "name": "stdout",
     "output_type": "stream",
     "text": [
      "          a         b         c         d\n",
      "0 -0.391464  2.109848  0.820829  0.565864\n",
      "1  1.000000  0.005725 -0.847744 -0.141337\n",
      "2 -0.498547 -0.556687  0.043879  0.558437\n",
      "3  0.238086 -0.077150  0.226842 -0.512293\n",
      "4 -0.241218 -0.319993  0.902624  0.258298\n",
      "5 -0.355178  2.393296 -0.149764 -1.312660\n"
     ]
    }
   ],
   "source": [
    "df1 = pd.DataFrame(np.random.randn(6,4), index= range(6), columns=['a','b','c','d'])\n",
    "df1.a[1] = 1\n",
    "print(df1)\n"
   ],
   "metadata": {
    "collapsed": false,
    "pycharm": {
     "name": "#%%\n"
    }
   }
  },
  {
   "cell_type": "code",
   "execution_count": 22,
   "outputs": [],
   "source": [],
   "metadata": {
    "collapsed": false,
    "pycharm": {
     "name": "#%%\n"
    }
   }
  }
 ],
 "metadata": {
  "kernelspec": {
   "display_name": "Python 3",
   "language": "python",
   "name": "python3"
  },
  "language_info": {
   "codemirror_mode": {
    "name": "ipython",
    "version": 2
   },
   "file_extension": ".py",
   "mimetype": "text/x-python",
   "name": "python",
   "nbconvert_exporter": "python",
   "pygments_lexer": "ipython2",
   "version": "2.7.6"
  }
 },
 "nbformat": 4,
 "nbformat_minor": 0
}